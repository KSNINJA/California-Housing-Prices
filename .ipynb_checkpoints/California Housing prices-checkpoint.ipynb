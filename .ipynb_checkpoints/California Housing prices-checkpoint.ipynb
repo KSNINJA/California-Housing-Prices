{
 "cells": [
  {
   "cell_type": "code",
   "execution_count": null,
   "metadata": {},
   "outputs": [],
   "source": [
    "# This Python 3 environment comes with many helpful analytics libraries installed\n",
    "# It is defined by the kaggle/python Docker image: https://github.com/kaggle/docker-python\n",
    "\n",
    "import numpy as np # linear algebra\n",
    "import pandas as pd # data processing, CSV file I/O (e.g. pd.read_csv)\n",
    "\n",
    "import matplotlib.pyplot\n",
    "import pylab\n",
    "\n",
    "from sklearn.preprocessing import PolynomialFeatures\n",
    "from sklearn.linear_model import LinearRegression\n",
    "\n",
    "# Input data files are available in the read-only \"../input/\" directory\n",
    "# For example, running this (by clicking run will list all files under the input directory\n",
    "import os\n",
    "#for dirname, _, filenames in os.walk('/kaggle/input'):\n",
    "    #for filename in filenames:\n",
    "    #   print(os.path.join(dirname, filename))\n",
    "    \n",
    "data = pd.read_csv('/input/california-housing-prices/housing.csv', delimiter=',')\n",
    "\n",
    "data['ocean_proximity'] = data['ocean_proximity'].map({'NEAR BAY': 10000, 'INLAND': 0})\n",
    "\n",
    "#Remove records with NaN\n",
    "data = data.dropna()\n",
    "\n",
    "msk = np.random.rand(len(data)) < 0.8\n",
    "\n",
    "train_data = data[msk]\n",
    "test_data = data[~msk]\n",
    "\n",
    "train_labels = train_data['median_house_value'] .to_numpy()\n",
    "\n",
    "train_features = train_data[['longitude', 'latitude', 'housing_median_age', 'total_rooms', 'total_bedrooms', 'population', 'households', 'median_income', 'ocean_proximity']]\n",
    "\n",
    "test_labels = test_data['median_house_value'] \n",
    "test_features = test_data[['longitude', 'latitude', 'housing_median_age', 'total_rooms', 'total_bedrooms', 'population', 'households', 'median_income', 'ocean_proximity']]\n",
    "\n",
    "poly = PolynomialFeatures(degree=1)\n",
    "X_ = poly.fit_transform(train_features)\n",
    "X_test_ = poly.fit_transform(test_features)\n",
    "\n",
    "reg = LinearRegression().fit(X_, train_labels)\n",
    "\n",
    "pred= reg.predict(X_test_)\n",
    "matplotlib.pyplot.scatter(test_labels,pred)\n",
    "\n",
    "matplotlib.pyplot.show()\n"
   ]
  }
 ],
 "metadata": {
  "kernelspec": {
   "display_name": "Python 3",
   "language": "python",
   "name": "python3"
  },
  "language_info": {
   "codemirror_mode": {
    "name": "ipython",
    "version": 3
   },
   "file_extension": ".py",
   "mimetype": "text/x-python",
   "name": "python",
   "nbconvert_exporter": "python",
   "pygments_lexer": "ipython3",
   "version": "3.7.6"
  }
 },
 "nbformat": 4,
 "nbformat_minor": 4
}
